{
 "cells": [
  {
   "cell_type": "code",
   "execution_count": null,
   "metadata": {
    "collapsed": true
   },
   "outputs": [],
   "source": [
    "#import potrebnih biblioteka\n",
    "%matplotlib inline\n",
    "import cv2\n",
    "import collections\n",
    "import numpy as np\n",
    "import scipy as sc\n",
    "import matplotlib.pyplot as plt\n",
    "\n",
    "# k-means\n",
    "from sklearn.cluster import KMeans\n",
    "\n",
    "# keras\n",
    "from keras.models import Sequential\n",
    "from keras.layers.core import Dense,Activation\n",
    "from keras.optimizers import SGD\n",
    "\n",
    "import matplotlib.pylab as pylab\n",
    "pylab.rcParams['figure.figsize'] = 16, 12 # za prikaz većih slika i plotova, zakomentarisati ako nije potrebno\n",
    "\n",
    "#Funkcionalnost implementirana u V1\n",
    "def load_image(path):\n",
    "    return cv2.cvtColor(cv2.imread(path), cv2.COLOR_BGR2RGB)\n",
    "def image_gray(image):\n",
    "    return cv2.cvtColor(image, cv2.COLOR_RGB2GRAY)\n",
    "def image_bin(image_gs):\n",
    "    ret,image_bin = cv2.threshold(image_gs, 127, 255, cv2.THRESH_BINARY)\n",
    "    return image_bin\n",
    "def image_bin_adaptive(image_gs):\n",
    "    image_bin = cv2.adaptiveThreshold(image_gs, 255, cv2.ADAPTIVE_THRESH_GAUSSIAN_C, cv2.THRESH_BINARY, 15, 5)\n",
    "    return image_bin\n",
    "def invert(image):\n",
    "    return 255-image\n",
    "def display_image(image, color= False):\n",
    "    if color:\n",
    "        plt.imshow(image)\n",
    "    else:\n",
    "        plt.imshow(image, 'gray')\n",
    "def dilate(image):\n",
    "    kernel = np.ones((3,3)) # strukturni element 3x3 blok\n",
    "    return cv2.dilate(image, kernel, iterations=1)\n",
    "def erode(image):\n",
    "    kernel = np.ones((3,3)) # strukturni element 3x3 blok\n",
    "    return cv2.erode(image, kernel, iterations=1)\n",
    "\n",
    "#Funkcionalnost implementirana u V2\n",
    "def resize_region(region):\n",
    "    resized = cv2.resize(region,(28,28), interpolation = cv2.INTER_NEAREST)\n",
    "    return resized\n",
    "def scale_to_range(image):\n",
    "    return image / 255\n",
    "def matrix_to_vector(image):\n",
    "    return image.flatten()\n",
    "def prepare_for_ann(regions):\n",
    "    ready_for_ann = []\n",
    "    for region in regions:\n",
    "        ready_for_ann.append(matrix_to_vector(scale_to_range(region)))\n",
    "    return ready_for_ann\n",
    "def convert_output(outputs):\n",
    "    return np.eye(len(outputs))\n",
    "def winner(output):\n",
    "    return max(enumerate(output), key=lambda x: x[1])[0]\n",
    "\n",
    "def remove_noise(binary_image):\n",
    "    ret_val = erode(erode(dilate(binary_image)))\n",
    "    ret_val = invert(ret_val)\n",
    "    return ret_val\n"
   ]
  },
  {
   "cell_type": "code",
   "execution_count": null,
   "metadata": {
    "collapsed": true
   },
   "outputs": [],
   "source": [
    "def select_roi(image_orig, image_bin):\n",
    "    '''\n",
    "    Funkcija kao u vežbi 2, iscrtava pravougaonike na originalnoj slici, pronalazi sortiran niz regiona sa slike,\n",
    "    i dodatno treba da sačuva rastojanja između susednih regiona.\n",
    "    '''\n",
    "    img, contours, hierarchy = cv2.findContours(image_bin.copy(), cv2.RETR_EXTERNAL, cv2.CHAIN_APPROX_SIMPLE)\n",
    "    #Način određivanja kontura je promenjen na spoljašnje konture: cv2.RETR_EXTERNAL\n",
    "    regions_dict = {}\n",
    "    for contour in contours: \n",
    "        x,y,w,h = cv2.boundingRect(contour)\n",
    "        area = cv2.contourArea(contour)\n",
    "        if area > 40 and h < 100 and h > 5 and w > 5:\n",
    "            region = image_bin[y:y+h+1,x:x+w+1];\n",
    "            # Proširiti regions_dict elemente sa vrednostima boundingRect-a ili samim konturama\n",
    "            regions_dict[y] = [resize_region(region),(x,y,w,h)]\n",
    "            cv2.rectangle(image_orig,(x,y),(x+w,y+h),(0,255,0),2)\n",
    "        \n",
    "    sorted_regions_dict = collections.OrderedDict(sorted(regions_dict.items()))\n",
    "    sorted_regions = np.array(sorted_regions_dict.values())\n",
    "    \n",
    "    sorted_rectangles = sorted_regions[:,1]\n",
    "    region_distances = [-sorted_rectangles[0][0]-sorted_rectangles[0][2]]\n",
    "    # Izdvojiti sortirane parametre opisujućih pravougaonika\n",
    "    # Izračunati rastojanja između svih susednih regiona po x osi i dodati ih u region_distances niz\n",
    "    for x,y,w,h in sorted_regions[1:-1, 1]:\n",
    "        region_distances[-1] += y\n",
    "        region_distances.append(-y-h)\n",
    "    region_distances[-1] += sorted_rectangles[-1][0]\n",
    "    \n",
    "    return image_orig, sorted_regions[:, 0], region_distances"
   ]
  },
  {
   "cell_type": "code",
   "execution_count": null,
   "metadata": {
    "collapsed": true
   },
   "outputs": [],
   "source": [
    "def create_ann():\n",
    "    \n",
    "    ann = Sequential()\n",
    "    # Postavljanje slojeva neurona mreže 'ann'\n",
    "    ann.add(Dense(input_dim=784, output_dim=128,init=\"glorot_uniform\"))\n",
    "    ann.add(Activation(\"sigmoid\"))\n",
    "    ann.add(Dense(input_dim=128, output_dim=10,init=\"glorot_uniform\"))\n",
    "    ann.add(Activation(\"sigmoid\"))\n",
    "    return ann\n",
    "    \n",
    "def train_ann(ann, X_train, y_train):\n",
    "    X_train = np.array(X_train, np.float32)\n",
    "    y_train = np.array(y_train, np.float32)\n",
    "   \n",
    "    # definisanje parametra algoritma za obucavanje\n",
    "    sgd = SGD(lr=0.01, momentum=0.9)\n",
    "    ann.compile(loss='mean_squared_error', optimizer=sgd)\n",
    "\n",
    "    # obucavanje neuronske mreze\n",
    "    ann.fit(X_train, y_train, nb_epoch=500, batch_size=1, verbose = 0, shuffle=False, show_accuracy = False) \n",
    "      \n",
    "    return ann"
   ]
  },
  {
   "cell_type": "code",
   "execution_count": null,
   "metadata": {
    "collapsed": true
   },
   "outputs": [],
   "source": [
    "def display_result(outputs, alphabet, k_means):\n",
    "    '''\n",
    "    Funkcija određuje koja od grupa predstavlja razmak između reči, a koja između slova, i na osnovu\n",
    "    toga formira string od elemenata pronađenih sa slike.\n",
    "    Args:\n",
    "        outputs: niz izlaza iz neuronske mreže.\n",
    "        alphabet: niz karaktera koje je potrebno prepoznati\n",
    "        kmeans: obučen kmeans objekat\n",
    "    Return:\n",
    "        Vraća formatiran string\n",
    "    '''\n",
    "    # Odrediti indeks grupe koja odgovara rastojanju između reči, pomoću vrednosti iz k_means.cluster_centers_\n",
    "    w_space_group = max(enumerate(k_means.cluster_centers_), key = lambda x: x[1])[0]\n",
    "    result = alphabet[winner(outputs[0])]\n",
    "    for idx, output in enumerate(outputs[1:,:]):\n",
    "        # Iterativno dodavati prepoznate elemente kao u vežbi 2, alphabet[winner(output)]\n",
    "        # Dodati space karakter u slučaju da odgovarajuće rastojanje između dva slova odgovara razmaku između reči.\n",
    "        # U ovu svrhu, koristiti atribut niz k_means.labels_ koji sadrži sortirana rastojanja između susednih slova.\n",
    "        if (idx==3):\n",
    "            result+= ' '\n",
    "        if (idx==9):\n",
    "            result+= ' '    \n",
    "        if (k_means.labels_[idx] == w_space_group):\n",
    "            result += ' '\n",
    "        result += alphabet[winner(output)]\n",
    "    return result"
   ]
  },
  {
   "cell_type": "code",
   "execution_count": null,
   "metadata": {
    "collapsed": true
   },
   "outputs": [],
   "source": [
    "def create_ann():\n",
    "    \n",
    "    ann = Sequential()\n",
    "    # Postavljanje slojeva neurona mreže 'ann'\n",
    "    ann.add(Dense(input_dim=784, output_dim=128,init=\"glorot_uniform\"))\n",
    "    ann.add(Activation(\"sigmoid\"))\n",
    "    ann.add(Dense(input_dim=128, output_dim=24,init=\"glorot_uniform\"))\n",
    "    ann.add(Activation(\"sigmoid\"))\n",
    "    return ann\n",
    "    \n",
    "def train_ann(ann, X_train, y_train):\n",
    "    X_train = np.array(X_train, np.float32)\n",
    "    y_train = np.array(y_train, np.float32)\n",
    "   \n",
    "    # definisanje parametra algoritma za obucavanje\n",
    "    sgd = SGD(lr=0.01, momentum=0.9)\n",
    "    ann.compile(loss='mean_squared_error', optimizer=sgd)\n",
    "\n",
    "    # obucavanje neuronske mreze\n",
    "    ann.fit(X_train, y_train, nb_epoch=500, batch_size=1, verbose = 0, shuffle=False, show_accuracy = False) \n",
    "      \n",
    "    return ann"
   ]
  },
  {
   "cell_type": "code",
   "execution_count": null,
   "metadata": {
    "collapsed": false
   },
   "outputs": [],
   "source": [
    "train=cv2.imread('fifi_train.jpg')\n",
    "train=cv2.cvtColor(train,cv2.COLOR_RGB2BGR)\n",
    "\n",
    "visina,sirina = train.shape[0:2]\n",
    "image_gray= np.ndarray((visina, sirina), dtype=np.uint8)\n",
    "\n",
    "for i in range(0,visina):\n",
    "    for j in range(0,sirina):\n",
    "        pixel=train[i,j]\n",
    "        r,g,b=pixel[0],pixel[1],pixel[2]\n",
    "        gray = float(r) * .2989 + float(g) * .997 + float(b) * .114 # racunanje grayscale intenziteta\n",
    "        image_gray[i, j] = gray # postavljanje piksela na rezultujucoj slici\n",
    "\n",
    "train_bin=image_bin_adaptive(image_gray)\n",
    "train_bin=invert(train_bin)\n",
    "train_bin=dilate(erode(train_bin))\n",
    "display_image(train_bin)\n",
    "\n",
    "selected_regions, numbers, distances = select_roi(train.copy(), train_bin)\n",
    "display_image(selected_regions)\n",
    "print 'Broj prepoznatih regiona:', len(numbers)\n",
    "\n",
    "distances = np.array(distances).reshape(len(distances), 1)\n",
    "#Neophodno je da u K-means algoritam bude prosleđena matrica u kojoj vrste određuju elemente\n",
    "\n",
    "k_means = KMeans(n_clusters=2, max_iter=2000, tol=0.00001, n_init=10)\n",
    "k_means.fit(distances)\n"
   ]
  },
  {
   "cell_type": "code",
   "execution_count": null,
   "metadata": {
    "collapsed": false
   },
   "outputs": [],
   "source": [
    "alphabet = ['a','b','c','d','e','f','g','h','i','j','k','l','m','n','o','p','q','r','s','t','u','v','w','y']\n",
    "inputs = prepare_for_ann(numbers)\n",
    "outputs = convert_output(alphabet)\n",
    "ann = create_ann()\n",
    "ann = train_ann(ann, inputs, outputs)"
   ]
  },
  {
   "cell_type": "code",
   "execution_count": null,
   "metadata": {
    "collapsed": false
   },
   "outputs": [],
   "source": [
    "result = ann.predict(np.array(inputs, np.float32))\n",
    "print display_result(result, alphabet,k_means)"
   ]
  },
  {
   "cell_type": "code",
   "execution_count": null,
   "metadata": {
    "collapsed": false
   },
   "outputs": [],
   "source": [
    "test=cv2.imread('fifi_test.jpg')\n",
    "test=cv2.cvtColor(test,cv2.COLOR_RGB2BGR)\n",
    "\n",
    "visina,sirina = test.shape[0:2]\n",
    "image_gray= np.ndarray((visina, sirina), dtype=np.uint8)\n",
    "\n",
    "for i in range(0,visina):\n",
    "    for j in range(0,sirina):\n",
    "        pixel=test[i,j]\n",
    "        r,g,b=pixel[0],pixel[1],pixel[2]\n",
    "        gray = float(r) * .2989 + float(g) * .897 + float(b) * .214 # racunanje grayscale intenziteta\n",
    "        image_gray[i, j] = gray # postavljanje piksela na rezultujucoj slici\n",
    "\n",
    "test_bin=image_bin_adaptive(image_gray)\n",
    "test_bin=invert(test_bin)\n",
    "test_bin=dilate(erode((test_bin)))\n",
    "#test_bin=erode(test_bin)\n",
    "display_image(test_bin)\n"
   ]
  },
  {
   "cell_type": "code",
   "execution_count": null,
   "metadata": {
    "collapsed": false
   },
   "outputs": [],
   "source": [
    "selected_regions, numbers, distances = select_roi(test.copy(), test_bin)\n",
    "display_image(selected_regions)\n",
    "print 'Broj prepoznatih regiona:', len(numbers)\n",
    "\n",
    "#Podešavanje centara grupa K-means algoritmom\n",
    "distances = np.array(distances).reshape(len(distances), 1)\n",
    "#Neophodno je da u K-means algoritam bude prosleđena matrica u kojoj vrste određuju elemente\n",
    "\n",
    "k_means = KMeans(n_clusters=2, max_iter=2000, tol=0.00001, n_init=10)\n",
    "k_means.fit(distances)"
   ]
  },
  {
   "cell_type": "code",
   "execution_count": null,
   "metadata": {
    "collapsed": false
   },
   "outputs": [],
   "source": [
    "inputs = prepare_for_ann(numbers)\n",
    "results = ann.predict(np.array(inputs, np.float32))\n",
    "print display_result(results, alphabet,k_means)"
   ]
  },
  {
   "cell_type": "code",
   "execution_count": null,
   "metadata": {
    "collapsed": true
   },
   "outputs": [],
   "source": []
  }
 ],
 "metadata": {
  "kernelspec": {
   "display_name": "Python 2",
   "language": "python",
   "name": "python2"
  },
  "language_info": {
   "codemirror_mode": {
    "name": "ipython",
    "version": 2
   },
   "file_extension": ".py",
   "mimetype": "text/x-python",
   "name": "python",
   "nbconvert_exporter": "python",
   "pygments_lexer": "ipython2",
   "version": "2.7.10"
  }
 },
 "nbformat": 4,
 "nbformat_minor": 0
}
